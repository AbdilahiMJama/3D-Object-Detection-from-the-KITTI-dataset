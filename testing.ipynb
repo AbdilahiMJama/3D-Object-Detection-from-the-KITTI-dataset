{
 "cells": [
  {
   "cell_type": "code",
   "execution_count": 1,
   "metadata": {},
   "outputs": [],
   "source": [
    "import os\n",
    "import cv2\n",
    "from glob import glob\n",
    "import numpy as np\n",
    "import pandas as pd\n",
    "from kitti_utils import *"
   ]
  },
  {
   "cell_type": "markdown",
   "metadata": {},
   "source": [
    "### Number of Files"
   ]
  },
  {
   "cell_type": "code",
   "execution_count": 2,
   "metadata": {},
   "outputs": [
    {
     "name": "stdout",
     "output_type": "stream",
     "text": [
      "Number of right images:  {297}\n",
      "Number of left images:  {297}\n",
      "Number of LiDAR {297}\n",
      "Number of GPS data {297}\n"
     ]
    }
   ],
   "source": [
    "image_files = '../2011_09_26_drive_0015_sync/2011_09_26/2011_09_26_drive_0015_sync/'\n",
    "\n",
    "# Get the left and right images.\n",
    "right_image_path = sorted(glob(os.path.join(image_files,'image_02/data/*.png')))\n",
    "left_image_path = sorted(glob(os.path.join(image_files,'image_03/data/*.png')))\n",
    "\n",
    "# Get LiDAR data\n",
    "bin_paths = sorted(glob(os.path.join(image_files,'velodyne_points/data/*.bin')))\n",
    "\n",
    "#Get GPS/Imu data\n",
    "oxts_path = sorted(glob(os.path.join(image_files,r'oxts/data/*.txt')))\n",
    "\n",
    "print(f'Number of right images: ',{len(right_image_path)})\n",
    "print(f'Number of left images: ', {len(left_image_path)})\n",
    "print(f'Number of LiDAR' ,{len(bin_paths)})\n",
    "print(f'Number of GPS data', {len(oxts_path)})"
   ]
  },
  {
   "cell_type": "markdown",
   "metadata": {},
   "source": [
    "### Loading camera calibration data"
   ]
  },
  {
   "cell_type": "code",
   "execution_count": 3,
   "metadata": {},
   "outputs": [],
   "source": [
    "with open ('../2011_09_26_calib/2011_09_26/calib_cam_to_cam.txt') as f:\n",
    "    calib = f.readlines()\n",
    "# Projection matrices\n",
    "P_rect_cam2 = np.array([float(x) for x in calib[25].strip().split(' ')[1:]]).reshape((3,4))\n",
    "\n",
    "# get rectified rotation matrices (left camera --> rectified left camera)\n",
    "R_ref0_rect2 = np.array([float(x) for x in calib[24].strip().split(' ')[1:]]).reshape((3, 3,))\n",
    "\n",
    "# add (0,0,0) translation and convert to homogeneous coordinates\n",
    "R_ref0_rect2 = np.insert(R_ref0_rect2, 3, values=[0,0,0], axis=0)\n",
    "R_ref0_rect2 = np.insert(R_ref0_rect2, 3, values=[0,0,0,1], axis=1)\n",
    "\n",
    "\n",
    "# get rigid transformation from Camera 0 (ref) to Camera 2\n",
    "R_2 = np.array([float(x) for x in calib[21].strip().split(' ')[1:]]).reshape((3,3))\n",
    "t_2 = np.array([float(x) for x in calib[22].strip().split(' ')[1:]]).reshape((3,1))\n",
    "\n",
    "# get cam0 to cam2 rigid body transformation in homogeneous coordinates\n",
    "T_ref0_ref2 = np.insert(np.hstack((R_2, t_2)), 3, values=[0,0,0,1], axis=0)"
   ]
  },
  {
   "cell_type": "markdown",
   "metadata": {},
   "source": [
    "### Get the LiDAR and IMU data"
   ]
  },
  {
   "cell_type": "code",
   "execution_count": 4,
   "metadata": {},
   "outputs": [],
   "source": [
    "T_velo_ref0 = get_rigid_transformation('../2011_09_26_calib/2011_09_26/calib_velo_to_cam.txt')\n",
    "T_imu_velo = get_rigid_transformation('../2011_09_26_calib/2011_09_26/calib_imu_to_velo.txt')"
   ]
  },
  {
   "cell_type": "markdown",
   "metadata": {},
   "source": [
    "## Load Labels/ Annotations"
   ]
  },
  {
   "cell_type": "code",
   "execution_count": 38,
   "metadata": {},
   "outputs": [
    {
     "name": "stdout",
     "output_type": "stream",
     "text": [
      "parsing tracklet file ../2011_09_26_drive_0015_tracklets/2011_09_26/2011_09_26_drive_0015_sync/tracklet_labels.xml\n",
      "file contains 36 tracklets\n",
      "loaded 36 tracklets\n"
     ]
    }
   ],
   "source": [
    "from parseTrackletXML import *\n",
    "xml_file = '../2011_09_26_drive_0015_tracklets/2011_09_26/2011_09_26_drive_0015_sync/tracklet_labels.xml'\n",
    "test = parseXML(xml_file)"
   ]
  },
  {
   "cell_type": "code",
   "execution_count": 43,
   "metadata": {},
   "outputs": [
    {
     "name": "stdout",
     "output_type": "stream",
     "text": [
      "[0, 0, 10, 28, 26, 44, 53, 55, 53, 68, 101, 139, 165, 170, 170, 148, 170, 170, 186, 197, 204, 215, 209, 228, 241, 239, 254, 257, 259, 264, 256, 0, 141, 106, 63, 167]\n"
     ]
    }
   ],
   "source": [
    "a = []\n",
    "for i in test:\n",
    "    a.append(i.firstFrame)\n",
    "print(a)"
   ]
  },
  {
   "cell_type": "code",
   "execution_count": 37,
   "metadata": {},
   "outputs": [
    {
     "name": "stdout",
     "output_type": "stream",
     "text": [
      "parsing tracklet file ../2011_09_26_drive_0015_tracklets/2011_09_26/2011_09_26_drive_0015_sync/tracklet_labels.xml\n",
      "file contains 36 tracklets\n",
      "loaded 36 tracklets\n"
     ]
    }
   ],
   "source": [
    "def extractDimensions(filename):\n",
    "    dimensions = parseXML(filename)\n",
    "    h,w,l = [],[],[]\n",
    "    for i in dimensions:\n",
    "        h.append(i.size[0])\n",
    "        w.append(i.size[1])\n",
    "        l.append(i.size[2])\n",
    "    return h,w,l\n",
    "h,w,l = extractDimensions(xml_file)"
   ]
  },
  {
   "cell_type": "code",
   "execution_count": 49,
   "metadata": {},
   "outputs": [
    {
     "data": {
      "text/plain": [
       "\"from Mask_RCNN.mrcnn.utils import Dataset\\nclass KITTIDataset(Dataset):\\n    def load_dataset(self, dataset_images,trackletFile=xml_file):\\n        tracklets = parseXML(trackletFile)\\n        for i in dataset_images:\\n            image_id = i[:-4]\\n            #left_images = sorted(os.path.join(image_files,'image_02/data/'))\\n            right_images = os.path.join(image_files, 'image_03/data/*.png')\\n            \\n            for track in tracklets:\\n                first_frame = int(track.firstFrame)\\n            print(i)\\n\\nk = KITTIDataset()\\nk.load_dataset(image_files,xml_file)  \\n\""
      ]
     },
     "execution_count": 49,
     "metadata": {},
     "output_type": "execute_result"
    }
   ],
   "source": [
    "'''from Mask_RCNN.mrcnn.utils import Dataset\n",
    "class KITTIDataset(Dataset):\n",
    "    def load_dataset(self, dataset_images,trackletFile=xml_file):\n",
    "        tracklets = parseXML(trackletFile)\n",
    "        for i in dataset_images:\n",
    "            image_id = i[:-4]\n",
    "            #left_images = sorted(os.path.join(image_files,'image_02/data/'))\n",
    "            right_images = os.path.join(image_files, 'image_03/data/*.png')\n",
    "            \n",
    "            for track in tracklets:\n",
    "                first_frame = int(track.firstFrame)\n",
    "            print(i)\n",
    "\n",
    "k = KITTIDataset()\n",
    "k.load_dataset(image_files,xml_file)  \n",
    "'''              \n",
    "                \n",
    "        \n",
    "\n",
    "\n"
   ]
  },
  {
   "cell_type": "code",
   "execution_count": null,
   "metadata": {},
   "outputs": [],
   "source": []
  }
 ],
 "metadata": {
  "kernelspec": {
   "display_name": "myvenv",
   "language": "python",
   "name": "python3"
  },
  "language_info": {
   "codemirror_mode": {
    "name": "ipython",
    "version": 3
   },
   "file_extension": ".py",
   "mimetype": "text/x-python",
   "name": "python",
   "nbconvert_exporter": "python",
   "pygments_lexer": "ipython3",
   "version": "3.11.8"
  }
 },
 "nbformat": 4,
 "nbformat_minor": 2
}
